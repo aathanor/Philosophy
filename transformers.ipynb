{
  "nbformat": 4,
  "nbformat_minor": 0,
  "metadata": {
    "colab": {
      "provenance": [],
      "authorship_tag": "ABX9TyN+D+KAZQgPsuk7NLIM1ZRL",
      "include_colab_link": true
    },
    "kernelspec": {
      "name": "python3",
      "display_name": "Python 3"
    },
    "language_info": {
      "name": "python"
    }
  },
  "cells": [
    {
      "cell_type": "markdown",
      "metadata": {
        "id": "view-in-github",
        "colab_type": "text"
      },
      "source": [
        "<a href=\"https://colab.research.google.com/github/aathanor/Philosophy/blob/main/transformers.ipynb\" target=\"_parent\"><img src=\"https://colab.research.google.com/assets/colab-badge.svg\" alt=\"Open In Colab\"/></a>"
      ]
    },
    {
      "cell_type": "code",
      "execution_count": null,
      "metadata": {
        "id": "iSgME50RqvGQ"
      },
      "outputs": [],
      "source": [
        "import tensorflow as tf\n",
        "from tensorflow import keras\n",
        "from tensorflow.keras import layers\n",
        "\n",
        "# Configuration\n",
        "image_size = 64\n",
        "patch_size = 8\n",
        "num_patches = (image_size // patch_size) ** 2  # 64 patches\n",
        "embedding_dim = 64\n",
        "num_heads = 4\n",
        "num_layers = 2\n",
        "\n",
        "# Build Vision Transformer\n",
        "def create_vit_model():\n",
        "    inputs = layers.Input(shape=(image_size, image_size, 3))\n",
        "\n",
        "    # 1. Create patches\n",
        "    patches = layers.Conv2D(\n",
        "        embedding_dim,\n",
        "        kernel_size=patch_size,\n",
        "        strides=patch_size,\n",
        "        padding='valid',\n",
        "        name='patch_embedding'\n",
        "    )(inputs)\n",
        "\n",
        "    # 2. Reshape patches\n",
        "    patches = layers.Reshape((num_patches, embedding_dim), name='reshape_patches')(patches)\n",
        "\n",
        "    # 3. Add positional embeddings\n",
        "    positions = tf.range(start=0, limit=num_patches, delta=1)\n",
        "    pos_embedding = layers.Embedding(\n",
        "        input_dim=num_patches,\n",
        "        output_dim=embedding_dim,\n",
        "        name='positional_embedding'\n",
        "    )(positions)\n",
        "    patches = patches + pos_embedding\n",
        "\n",
        "    # 4. Transformer blocks\n",
        "    for i in range(num_layers):\n",
        "        # Multi-head self-attention\n",
        "        x1 = layers.LayerNormalization(name=f'norm1_layer{i}')(patches)\n",
        "        attention = layers.MultiHeadAttention(\n",
        "            num_heads=num_heads,\n",
        "            key_dim=embedding_dim,\n",
        "            name=f'attention_layer{i}'\n",
        "        )(x1, x1)\n",
        "        x2 = layers.Add(name=f'add1_layer{i}')([patches, attention])\n",
        "\n",
        "        # Feed-forward network\n",
        "        x3 = layers.LayerNormalization(name=f'norm2_layer{i}')(x2)\n",
        "        x3 = layers.Dense(embedding_dim * 2, activation='relu', name=f'ffn_dense1_layer{i}')(x3)\n",
        "        x3 = layers.Dense(embedding_dim, name=f'ffn_dense2_layer{i}')(x3)\n",
        "        patches = layers.Add(name=f'add2_layer{i}')([x2, x3])\n",
        "\n",
        "    # 5. Global average pooling\n",
        "    representation = layers.GlobalAveragePooling1D(name='global_pooling')(patches)\n",
        "\n",
        "    # 6. Classification head\n",
        "    features = layers.Dense(64, activation='relu', name='pre_classifier')(representation)\n",
        "    features = layers.Dropout(0.5, name='dropout')(features)\n",
        "    outputs = layers.Dense(1, activation='sigmoid', name='gender_output')(features)\n",
        "\n",
        "    model = keras.Model(inputs=inputs, outputs=outputs, name='vision_transformer')\n",
        "    return model\n",
        "\n",
        "# Create and save the model\n",
        "vit_model = create_vit_model()\n",
        "vit_model.save('gender_classifier_vit.h5')\n",
        "\n",
        "# Also save as TensorFlow SavedModel format (often shows more detail in Netron)\n",
        "vit_model.save('gender_classifier_vit_savedmodel')\n",
        "\n",
        "print(\"Model saved! You can now upload either file to netron.app\")\n",
        "vit_model.summary()"
      ]
    }
  ]
}